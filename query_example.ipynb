{
 "cells": [
  {
   "cell_type": "code",
   "execution_count": 1,
   "metadata": {},
   "outputs": [
    {
     "name": "stderr",
     "output_type": "stream",
     "text": [
      "C:\\Users\\ivand\\AppData\\Local\\Temp\\ipykernel_14544\\4044493915.py:20: DeprecationWarning: executable_path has been deprecated, please pass in a Service object\n",
      "  driver = webdriver.Chrome('C:\\Program Files (x86)\\chromedriver.exe')\n",
      "C:\\Users\\ivand\\AppData\\Local\\Temp\\ipykernel_14544\\4044493915.py:22: DeprecationWarning: find_element_by_xpath is deprecated. Please use find_element(by=By.XPATH, value=xpath) instead\n",
      "  box = driver.find_element_by_xpath('//*[@id=\"L2AGLb\"]/div')\n",
      "C:\\Users\\ivand\\AppData\\Local\\Temp\\ipykernel_14544\\4044493915.py:26: DeprecationWarning: find_element_by_xpath is deprecated. Please use find_element(by=By.XPATH, value=xpath) instead\n",
      "  box = driver.find_element_by_xpath('//*[@id=\"sbtc\"]/div/div[2]/input')\n"
     ]
    }
   ],
   "source": [
    "#Imports Packages\n",
    "from selenium import webdriver\n",
    "from selenium.webdriver.common.keys import Keys\n",
    "from download_gg_image import download_gg_image\n",
    "import time \n",
    "\n",
    "#paths\n",
    "path_image = 'C:/Users/ivand/OneDrive/Documenti/_ml_competition/images/'\n",
    "path_drive = 'C:\\Program Files (x86)\\chromedriver.exe'\n",
    "\n",
    "#load list of animal names from txt file\n",
    "with open('A-Z_animals_1574.txt') as f:\n",
    "    animals = f.readlines()\n",
    "\n",
    "#clean the list of animal names\n",
    "for i in range(len(animals)):\n",
    "    animals[i] = animals[i][:-1]\n",
    "\n",
    "#Opens up web driver and goes to Google Images accepting user conditions\n",
    "driver = webdriver.Chrome('C:\\Program Files (x86)\\chromedriver.exe')\n",
    "driver.get('https://images.google.com/')\n",
    "box = driver.find_element_by_xpath('//*[@id=\"L2AGLb\"]/div')\n",
    "box.click()\n",
    "\n",
    "#first search to make a test\n",
    "box = driver.find_element_by_xpath('//*[@id=\"sbtc\"]/div/div[2]/input')\n",
    "box.send_keys('test')\n",
    "box.send_keys(Keys.ENTER)\n",
    "\n",
    "#use download_gg_image function to download image looping the animal names list\n",
    "#for animal in animals:\n",
    "#    download_gg_image(driver, animal, 100, path_image)"
   ]
  },
  {
   "cell_type": "code",
   "execution_count": 2,
   "metadata": {},
   "outputs": [
    {
     "name": "stdout",
     "output_type": "stream",
     "text": [
      "Time:  26.034141000011005\n"
     ]
    }
   ],
   "source": [
    "import timeit\n",
    "start = timeit.default_timer()\n",
    "\n",
    "#use download_gg_image function to download image\n",
    "download_gg_image(driver, 'cane', 50, path_image)\n",
    "\n",
    "stop = timeit.default_timer()\n",
    "print('Time: ', stop - start)  "
   ]
  },
  {
   "cell_type": "code",
   "execution_count": null,
   "metadata": {},
   "outputs": [],
   "source": [
    "#Imports Packages\n",
    "from selenium import webdriver\n",
    "from selenium.webdriver.common.keys import Keys\n",
    "from download_gg_image import download_gg_image\n",
    "import time \n",
    "#Opens up web driver and goes to Google Images\n",
    "path_image = 'C:/Users/ivand/OneDrive/Documenti/_ml_competition/images/'\n",
    "path_drive = 'C:\\Program Files (x86)\\chromedriver.exe'\n",
    "\n",
    "driver = webdriver.Chrome('C:\\Program Files (x86)\\chromedriver.exe')\n",
    "driver.get('https://images.google.com/')\n",
    "\n",
    "\n",
    "#load list of animals from txt file\n",
    "with open('A-Z_animals_1574.txt') as f:\n",
    "    animals = f.readlines()\n",
    "\n",
    "#clean the list\n",
    "for i in range(len(animals)):\n",
    "    animals[i] = animals[i][:-1]\n",
    "\n",
    "for animal in animals:\n",
    "    download_gg_image(driver, animal, 100, path_image)"
   ]
  },
  {
   "cell_type": "code",
   "execution_count": null,
   "metadata": {},
   "outputs": [],
   "source": [
    "#load list of animals from txt file\n",
    "with open('A-Z_animals_1574.txt') as f:\n",
    "    animals = f.readlines()\n",
    "\n",
    "#clean the list\n",
    "for i in range(len(animals)):\n",
    "    animals[i] = animals[i][:-1]\n",
    "\n",
    "for animal in animals:\n",
    "    download_gg_image(driver, animal, 100, path_image)"
   ]
  }
 ],
 "metadata": {
  "interpreter": {
   "hash": "34d12928e4a4454bee570fc427886fcae9c1959d375db836195fc23d9bc7a28a"
  },
  "kernelspec": {
   "display_name": "Python 3.10.2 ('.venv': venv)",
   "language": "python",
   "name": "python3"
  },
  "language_info": {
   "codemirror_mode": {
    "name": "ipython",
    "version": 3
   },
   "file_extension": ".py",
   "mimetype": "text/x-python",
   "name": "python",
   "nbconvert_exporter": "python",
   "pygments_lexer": "ipython3",
   "version": "3.10.2"
  },
  "orig_nbformat": 4
 },
 "nbformat": 4,
 "nbformat_minor": 2
}
