{
 "cells": [
  {
   "cell_type": "code",
   "execution_count": 1,
   "metadata": {},
   "outputs": [
    {
     "name": "stderr",
     "output_type": "stream",
     "text": [
      "C:\\Users\\ivand\\AppData\\Local\\Temp\\ipykernel_17276\\3706043079.py:10: DeprecationWarning: executable_path has been deprecated, please pass in a Service object\n",
      "  driver = webdriver.Chrome('C:\\Program Files (x86)\\chromedriver.exe')\n"
     ]
    }
   ],
   "source": [
    "#Imports Packages\n",
    "from selenium import webdriver\n",
    "from selenium.webdriver.common.keys import Keys\n",
    "from download_gg_image import download_gg_image\n",
    "import time \n",
    "#Opens up web driver and goes to Google Images\n",
    "path_image = 'C:/Users/ivand/OneDrive/Documenti/_ml_competition/images/'\n",
    "path_drive = 'C:\\Program Files (x86)\\chromedriver.exe'\n",
    "\n",
    "driver = webdriver.Chrome('C:\\Program Files (x86)\\chromedriver.exe')\n",
    "driver.get('https://images.google.com/')\n"
   ]
  },
  {
   "cell_type": "code",
   "execution_count": 2,
   "metadata": {},
   "outputs": [],
   "source": [
    "download_gg_image(driver, 'bird', 50, path_image)"
   ]
  }
 ],
 "metadata": {
  "interpreter": {
   "hash": "34d12928e4a4454bee570fc427886fcae9c1959d375db836195fc23d9bc7a28a"
  },
  "kernelspec": {
   "display_name": "Python 3.10.2 ('.venv': venv)",
   "language": "python",
   "name": "python3"
  },
  "language_info": {
   "codemirror_mode": {
    "name": "ipython",
    "version": 3
   },
   "file_extension": ".py",
   "mimetype": "text/x-python",
   "name": "python",
   "nbconvert_exporter": "python",
   "pygments_lexer": "ipython3",
   "version": "3.10.2"
  },
  "orig_nbformat": 4
 },
 "nbformat": 4,
 "nbformat_minor": 2
}
